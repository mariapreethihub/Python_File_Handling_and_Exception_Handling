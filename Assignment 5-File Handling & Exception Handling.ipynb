{
 "cells": [
  {
   "cell_type": "markdown",
   "id": "14d15899-cc8b-4bd7-a715-b31a1d7b3c1f",
   "metadata": {},
   "source": [
    "# 1.Write a Python program to read a file and display its contents "
   ]
  },
  {
   "cell_type": "code",
   "execution_count": 3,
   "id": "8e6a579d-5618-4530-a722-8ac7322297ed",
   "metadata": {},
   "outputs": [
    {
     "name": "stdout",
     "output_type": "stream",
     "text": [
      "Hai Assignment five\n",
      "File Handling\n"
     ]
    }
   ],
   "source": [
    "\n",
    "open_file=open(\"Assignment5_File.txt\",'r')\n",
    "read_file=open_file.read()\n",
    "print(read_file)\n",
    "open_file.close()"
   ]
  },
  {
   "cell_type": "markdown",
   "id": "dcb17694-aff0-400b-86f9-6b4454952943",
   "metadata": {},
   "source": [
    "# 2.Write a Python program to copy the contents of one file to another file "
   ]
  },
  {
   "cell_type": "code",
   "execution_count": 5,
   "id": "07e79e6a-4687-4dbd-9571-01030691284a",
   "metadata": {},
   "outputs": [
    {
     "name": "stdout",
     "output_type": "stream",
     "text": [
      "Contents in the Duplicate File:\n",
      "Hai Assignment five\n",
      "File Handling\n"
     ]
    }
   ],
   "source": [
    "original_file=open(\"Assignment5_File.txt\",'r')   # Opening original file in read mode\n",
    "data_original_file=original_file.read()         # Reading data in the original file\n",
    "original_file.close()                           # Closing original file\n",
    "\n",
    "duplicate_file=open(\"Duplicate.txt\",'w')        #Opening duplicate file in write mode\n",
    "duplicate_file.write(data_original_file)        # Writing data in original file to duplicate file\n",
    "duplicate_file.close()                          # Closing duplicate file after writing\n",
    "\n",
    "duplicate_file = open(\"Duplicate.txt\", 'r')      #Opening duplicate file in read mode\n",
    "\n",
    "print(\"Contents in the Duplicate File:\")\n",
    "print(duplicate_file.read())                    # Display content in the duplicate file\n",
    "duplicate_file.close()                            # Closing duplicate file after reading\n"
   ]
  },
  {
   "cell_type": "markdown",
   "id": "167d2d1c-364d-4a0f-a1d5-0ade8ed5fe37",
   "metadata": {},
   "source": [
    "# 3.Write a Python program to read the content of a file and count the total number of words in that file. "
   ]
  },
  {
   "cell_type": "code",
   "execution_count": 13,
   "id": "d59c97fd-733a-4aab-83f3-8fdac3f62c05",
   "metadata": {},
   "outputs": [
    {
     "name": "stdout",
     "output_type": "stream",
     "text": [
      "Content in the File:\n",
      " Hai Assignment five\n",
      "File Handling \n",
      "\n",
      "Content after splitting : ['Hai', 'Assignment', 'five', 'File', 'Handling']\n",
      "\n",
      "Count of words is: 5\n"
     ]
    }
   ],
   "source": [
    "\n",
    "open_file = open(\"Assignment5_File.txt\", 'r')\n",
    "read_file = open_file.read()\n",
    "read_file=read_file.strip() \n",
    "open_file.close()  \n",
    "\n",
    "if not read_file:                                           # Check if the file is empty\n",
    "    print(\"File is empty\")\n",
    "    exit()\n",
    "\n",
    "print(\"Content in the File:\\n\",read_file,\"\\n\")\n",
    "\n",
    "words_in_the_file = read_file.split()                      # Split string into words\n",
    "print(\"Content after splitting :\",words_in_the_file)\n",
    "\n",
    "print(\"\\nCount of words is:\", len(words_in_the_file))\n"
   ]
  },
  {
   "cell_type": "markdown",
   "id": "ac155c46-7ffa-42d5-82a0-8c1bbc8a2825",
   "metadata": {},
   "source": [
    "# 4.Write a Python program that prompts the user to input a string and converts it to an integer.Use try-except blocks to handle any exceptions that might occur"
   ]
  },
  {
   "cell_type": "code",
   "execution_count": 78,
   "id": "7f8ea367-7186-4108-b2d2-f9d21cee5d88",
   "metadata": {},
   "outputs": [
    {
     "name": "stdin",
     "output_type": "stream",
     "text": [
      "Enter an integer: 2\n"
     ]
    },
    {
     "name": "stdout",
     "output_type": "stream",
     "text": [
      "The entered value is: 2\n"
     ]
    }
   ],
   "source": [
    "while True:\n",
    "    try:\n",
    "        user_input=input(\"Enter an integer:\")\n",
    "        user_input=int(user_input)\n",
    "        print(\"The entered value is:\",user_input)\n",
    "        break\n",
    "\n",
    "    except ValueError:\n",
    "        print(\"The entered value is:\",user_input,\".\",\"Please enter a valid input\")\n",
    "    \n",
    "            "
   ]
  },
  {
   "cell_type": "markdown",
   "id": "6cdef3dd-ca5f-406f-9b3d-61391034476d",
   "metadata": {},
   "source": [
    "# 5.Write a Python program that prompts the user to input a list of integers and raises an exception if any of the integers in the list are negative. "
   ]
  },
  {
   "cell_type": "code",
   "execution_count": 3,
   "id": "fc8c14d8-b8fe-47f8-ae99-f3806e70cf40",
   "metadata": {},
   "outputs": [
    {
     "name": "stdin",
     "output_type": "stream",
     "text": [
      "Enter a list of integers:  2,-1\n"
     ]
    },
    {
     "name": "stdout",
     "output_type": "stream",
     "text": [
      "The entered list contains negative numbers. Please enter only positive integers.\n"
     ]
    },
    {
     "name": "stdin",
     "output_type": "stream",
     "text": [
      "Enter a list of integers:  2 4\n"
     ]
    },
    {
     "name": "stdout",
     "output_type": "stream",
     "text": [
      "The entered list of integers: [2, 4]\n"
     ]
    }
   ],
   "source": [
    "while True:\n",
    "    try:\n",
    "        user_input = input(\"Enter a list of integers: \")\n",
    "        user_input = user_input.replace(\",\", \" \")                                  \n",
    "        user_input=user_input.split() \n",
    "        numbers = []\n",
    "    \n",
    "        for num in user_input:\n",
    "            int_num = int(num)                                                        # Convert to integer\n",
    "            if int_num < 0:\n",
    "                print(\"The entered list contains negative numbers. Please enter only positive integers.\")\n",
    "                break\n",
    "            numbers.append(int_num)\n",
    "        else:\n",
    "            print(\"The entered list of integers:\",numbers)\n",
    "            break\n",
    "\n",
    "    except ValueError:\n",
    "          print(\"Invalid input. Please enter only integers.\")"
   ]
  },
  {
   "cell_type": "markdown",
   "id": "67cb11b7-b89d-40f8-bd60-8345ea269b82",
   "metadata": {},
   "source": [
    "# 6.Write a Python program that prompts the user to input a list of integers and computes the average of those integers. Use try-except blocks to handle any exceptions that might occur.use the finally clause to print a message indicating that the program has finished running"
   ]
  },
  {
   "cell_type": "code",
   "execution_count": 33,
   "id": "d3a0bbaf-9f4e-4b18-ae96-839e1f377c22",
   "metadata": {},
   "outputs": [
    {
     "name": "stdin",
     "output_type": "stream",
     "text": [
      "Enter a list of integers:  a\n"
     ]
    },
    {
     "name": "stdout",
     "output_type": "stream",
     "text": [
      "Invalid input. Please enter only integers.\n",
      "Program finished running\n"
     ]
    },
    {
     "name": "stdin",
     "output_type": "stream",
     "text": [
      "Enter a list of integers:  1,3,3\n"
     ]
    },
    {
     "name": "stdout",
     "output_type": "stream",
     "text": [
      "The average of entered numbers is: 2.33\n",
      "Program finished running\n"
     ]
    }
   ],
   "source": [
    "while True:\n",
    "    try:\n",
    "        user_input = input(\"Enter a list of integers: \")\n",
    "        user_input = user_input.replace(\",\", \" \")    \n",
    "        user_input=user_input.split() \n",
    "        list_length=len(user_input)\n",
    "        numbers = []\n",
    "        sum_integer=0\n",
    "        \n",
    "        for num in user_input:\n",
    "            \n",
    "            int_num = int(num)\n",
    "            sum_integer=sum_integer+int_num\n",
    "            \n",
    "        \n",
    "        average=sum_integer/list_length\n",
    "        print(\"The average of entered numbers is:\",round(average,2))\n",
    "        break\n",
    "        \n",
    "\n",
    "    except ValueError:\n",
    "          print(\"Invalid input. Please enter only integers.\")\n",
    "    finally:\n",
    "        print(\"Program finished running\")"
   ]
  },
  {
   "cell_type": "markdown",
   "id": "119ea78e-cf82-4a07-9b88-e15d344d6896",
   "metadata": {},
   "source": [
    "# 6.Write a Python program that prompts the user to input a filename and writes a string to that file. Use try-except blocks to handle any exceptions that might occur and print a welcome message if there is no exception occurred"
   ]
  },
  {
   "cell_type": "code",
   "execution_count": 54,
   "id": "6f4b97c4-7a7b-4d28-aa0c-b0c5785d13c2",
   "metadata": {},
   "outputs": [
    {
     "name": "stdin",
     "output_type": "stream",
     "text": [
      "Enter the file name: Welcome\n",
      "Enter the data to be entered in the file Welcome! Happy Learning\n"
     ]
    },
    {
     "name": "stdout",
     "output_type": "stream",
     "text": [
      "The file name is : Welcome\n",
      "Content in the file is : Welcome! Happy Learning\n"
     ]
    }
   ],
   "source": [
    "file_name=input(\"Enter the file name:\")\n",
    "content=input(\"Enter the data to be entered in the file\")\n",
    "try:\n",
    "    file=open(\"file_name\",\"w\")\n",
    "    file.write(content)\n",
    "    file.close()\n",
    "    \n",
    "    file=open(\"file_name\",\"r\")\n",
    "    print(\"The file name is :\",file_name)\n",
    "    print(\"Content in the file is :\",file.read())\n",
    "    \n",
    "except Exception:\n",
    "    print(\"Error in reading the file\")"
   ]
  },
  {
   "cell_type": "code",
   "execution_count": null,
   "id": "cc05cce3-fce7-4175-95af-6549b217dee0",
   "metadata": {},
   "outputs": [],
   "source": []
  }
 ],
 "metadata": {
  "kernelspec": {
   "display_name": "Python [conda env:base] *",
   "language": "python",
   "name": "conda-base-py"
  },
  "language_info": {
   "codemirror_mode": {
    "name": "ipython",
    "version": 3
   },
   "file_extension": ".py",
   "mimetype": "text/x-python",
   "name": "python",
   "nbconvert_exporter": "python",
   "pygments_lexer": "ipython3",
   "version": "3.12.7"
  }
 },
 "nbformat": 4,
 "nbformat_minor": 5
}
